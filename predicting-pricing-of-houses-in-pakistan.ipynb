{
 "cells": [
  {
   "cell_type": "code",
   "execution_count": 1,
   "id": "e003f0cf",
   "metadata": {
    "_cell_guid": "b1076dfc-b9ad-4769-8c92-a6c4dae69d19",
    "_uuid": "8f2839f25d086af736a60e9eeb907d3b93b6e0e5",
    "execution": {
     "iopub.execute_input": "2022-03-26T17:45:37.081642Z",
     "iopub.status.busy": "2022-03-26T17:45:37.076881Z",
     "iopub.status.idle": "2022-03-26T17:45:37.091775Z",
     "shell.execute_reply": "2022-03-26T17:45:37.092284Z"
    },
    "papermill": {
     "duration": 0.054263,
     "end_time": "2022-03-26T17:45:37.092628",
     "exception": false,
     "start_time": "2022-03-26T17:45:37.038365",
     "status": "completed"
    },
    "tags": []
   },
   "outputs": [
    {
     "name": "stdout",
     "output_type": "stream",
     "text": [
      "/kaggle/input/pakistan-house-price-prediction/Entities.csv\n"
     ]
    }
   ],
   "source": [
    "# This Python 3 environment comes with many helpful analytics libraries installed\n",
    "# It is defined by the kaggle/python Docker image: https://github.com/kaggle/docker-python\n",
    "# For example, here's several helpful packages to load\n",
    "\n",
    "import numpy as np # linear algebra\n",
    "import pandas as pd # data processing, CSV file I/O (e.g. pd.read_csv)\n",
    "\n",
    "# Input data files are available in the read-only \"../input/\" directory\n",
    "# For example, running this (by clicking run or pressing Shift+Enter) will list all files under the input directory\n",
    "\n",
    "import os\n",
    "for dirname, _, filenames in os.walk('/kaggle/input'):\n",
    "    for filename in filenames:\n",
    "        print(os.path.join(dirname, filename))\n",
    "\n",
    "# You can write up to 20GB to the current directory (/kaggle/working/) that gets preserved as output when you create a version using \"Save & Run All\" \n",
    "# You can also write temporary files to /kaggle/temp/, but they won't be saved outside of the current session"
   ]
  },
  {
   "cell_type": "markdown",
   "id": "37bdc27f",
   "metadata": {
    "papermill": {
     "duration": 0.024985,
     "end_time": "2022-03-26T17:45:37.143367",
     "exception": false,
     "start_time": "2022-03-26T17:45:37.118382",
     "status": "completed"
    },
    "tags": []
   },
   "source": [
    "# **Calling necessary requirements**"
   ]
  },
  {
   "cell_type": "code",
   "execution_count": 2,
   "id": "be4dbf1e",
   "metadata": {
    "execution": {
     "iopub.execute_input": "2022-03-26T17:45:37.199472Z",
     "iopub.status.busy": "2022-03-26T17:45:37.198726Z",
     "iopub.status.idle": "2022-03-26T17:45:38.555403Z",
     "shell.execute_reply": "2022-03-26T17:45:38.554777Z"
    },
    "papermill": {
     "duration": 1.386662,
     "end_time": "2022-03-26T17:45:38.555576",
     "exception": false,
     "start_time": "2022-03-26T17:45:37.168914",
     "status": "completed"
    },
    "tags": []
   },
   "outputs": [],
   "source": [
    "import seaborn as sns\n",
    "import matplotlib.pyplot as plt\n",
    "from sklearn.model_selection import cross_val_score\n",
    "from sklearn.linear_model import LinearRegression"
   ]
  },
  {
   "cell_type": "code",
   "execution_count": 3,
   "id": "c7ed9e4e",
   "metadata": {
    "execution": {
     "iopub.execute_input": "2022-03-26T17:45:38.610005Z",
     "iopub.status.busy": "2022-03-26T17:45:38.609277Z",
     "iopub.status.idle": "2022-03-26T17:45:39.899099Z",
     "shell.execute_reply": "2022-03-26T17:45:39.898513Z"
    },
    "papermill": {
     "duration": 1.318497,
     "end_time": "2022-03-26T17:45:39.899272",
     "exception": false,
     "start_time": "2022-03-26T17:45:38.580775",
     "status": "completed"
    },
    "tags": []
   },
   "outputs": [],
   "source": [
    "df=pd.read_csv('/kaggle/input/pakistan-house-price-prediction/Entities.csv')"
   ]
  },
  {
   "cell_type": "code",
   "execution_count": 4,
   "id": "2c7b8df3",
   "metadata": {
    "execution": {
     "iopub.execute_input": "2022-03-26T17:45:39.954877Z",
     "iopub.status.busy": "2022-03-26T17:45:39.953752Z",
     "iopub.status.idle": "2022-03-26T17:45:39.994857Z",
     "shell.execute_reply": "2022-03-26T17:45:39.995418Z"
    },
    "papermill": {
     "duration": 0.070041,
     "end_time": "2022-03-26T17:45:39.995603",
     "exception": false,
     "start_time": "2022-03-26T17:45:39.925562",
     "status": "completed"
    },
    "tags": []
   },
   "outputs": [
    {
     "data": {
      "text/html": [
       "<div>\n",
       "<style scoped>\n",
       "    .dataframe tbody tr th:only-of-type {\n",
       "        vertical-align: middle;\n",
       "    }\n",
       "\n",
       "    .dataframe tbody tr th {\n",
       "        vertical-align: top;\n",
       "    }\n",
       "\n",
       "    .dataframe thead th {\n",
       "        text-align: right;\n",
       "    }\n",
       "</style>\n",
       "<table border=\"1\" class=\"dataframe\">\n",
       "  <thead>\n",
       "    <tr style=\"text-align: right;\">\n",
       "      <th></th>\n",
       "      <th>Unnamed: 0</th>\n",
       "      <th>property_id</th>\n",
       "      <th>location_id</th>\n",
       "      <th>page_url</th>\n",
       "      <th>property_type</th>\n",
       "      <th>price</th>\n",
       "      <th>location</th>\n",
       "      <th>city</th>\n",
       "      <th>province_name</th>\n",
       "      <th>latitude</th>\n",
       "      <th>longitude</th>\n",
       "      <th>baths</th>\n",
       "      <th>purpose</th>\n",
       "      <th>bedrooms</th>\n",
       "      <th>date_added</th>\n",
       "      <th>agency</th>\n",
       "      <th>agent</th>\n",
       "      <th>Total_Area</th>\n",
       "    </tr>\n",
       "  </thead>\n",
       "  <tbody>\n",
       "    <tr>\n",
       "      <th>0</th>\n",
       "      <td>0</td>\n",
       "      <td>237062</td>\n",
       "      <td>3325</td>\n",
       "      <td>https://www.zameen.com/Property/g_10_g_10_2_gr...</td>\n",
       "      <td>Flat</td>\n",
       "      <td>10000000</td>\n",
       "      <td>G-10</td>\n",
       "      <td>Islamabad</td>\n",
       "      <td>Islamabad Capital</td>\n",
       "      <td>33.679890</td>\n",
       "      <td>73.012640</td>\n",
       "      <td>2</td>\n",
       "      <td>For Sale</td>\n",
       "      <td>2</td>\n",
       "      <td>2/4/2019</td>\n",
       "      <td>NaN</td>\n",
       "      <td>NaN</td>\n",
       "      <td>1089.004</td>\n",
       "    </tr>\n",
       "    <tr>\n",
       "      <th>1</th>\n",
       "      <td>1</td>\n",
       "      <td>346905</td>\n",
       "      <td>3236</td>\n",
       "      <td>https://www.zameen.com/Property/e_11_2_service...</td>\n",
       "      <td>Flat</td>\n",
       "      <td>6900000</td>\n",
       "      <td>E-11</td>\n",
       "      <td>Islamabad</td>\n",
       "      <td>Islamabad Capital</td>\n",
       "      <td>33.700993</td>\n",
       "      <td>72.971492</td>\n",
       "      <td>3</td>\n",
       "      <td>For Sale</td>\n",
       "      <td>3</td>\n",
       "      <td>5/4/2019</td>\n",
       "      <td>NaN</td>\n",
       "      <td>NaN</td>\n",
       "      <td>15246.056</td>\n",
       "    </tr>\n",
       "    <tr>\n",
       "      <th>2</th>\n",
       "      <td>2</td>\n",
       "      <td>386513</td>\n",
       "      <td>764</td>\n",
       "      <td>https://www.zameen.com/Property/islamabad_g_15...</td>\n",
       "      <td>House</td>\n",
       "      <td>16500000</td>\n",
       "      <td>G-15</td>\n",
       "      <td>Islamabad</td>\n",
       "      <td>Islamabad Capital</td>\n",
       "      <td>33.631486</td>\n",
       "      <td>72.926559</td>\n",
       "      <td>6</td>\n",
       "      <td>For Sale</td>\n",
       "      <td>5</td>\n",
       "      <td>7/17/2019</td>\n",
       "      <td>NaN</td>\n",
       "      <td>NaN</td>\n",
       "      <td>2178.008</td>\n",
       "    </tr>\n",
       "    <tr>\n",
       "      <th>3</th>\n",
       "      <td>3</td>\n",
       "      <td>656161</td>\n",
       "      <td>340</td>\n",
       "      <td>https://www.zameen.com/Property/islamabad_bani...</td>\n",
       "      <td>House</td>\n",
       "      <td>43500000</td>\n",
       "      <td>Bani Gala</td>\n",
       "      <td>Islamabad</td>\n",
       "      <td>Islamabad Capital</td>\n",
       "      <td>33.707573</td>\n",
       "      <td>73.151199</td>\n",
       "      <td>4</td>\n",
       "      <td>For Sale</td>\n",
       "      <td>4</td>\n",
       "      <td>4/5/2019</td>\n",
       "      <td>NaN</td>\n",
       "      <td>NaN</td>\n",
       "      <td>10890.000</td>\n",
       "    </tr>\n",
       "    <tr>\n",
       "      <th>4</th>\n",
       "      <td>4</td>\n",
       "      <td>841645</td>\n",
       "      <td>3226</td>\n",
       "      <td>https://www.zameen.com/Property/dha_valley_dha...</td>\n",
       "      <td>House</td>\n",
       "      <td>7000000</td>\n",
       "      <td>DHA Defence</td>\n",
       "      <td>Islamabad</td>\n",
       "      <td>Islamabad Capital</td>\n",
       "      <td>33.492591</td>\n",
       "      <td>73.301339</td>\n",
       "      <td>3</td>\n",
       "      <td>For Sale</td>\n",
       "      <td>3</td>\n",
       "      <td>7/10/2019</td>\n",
       "      <td>Easy Property</td>\n",
       "      <td>Muhammad Junaid Ceo Muhammad Shahid Director</td>\n",
       "      <td>2178.008</td>\n",
       "    </tr>\n",
       "    <tr>\n",
       "      <th>...</th>\n",
       "      <td>...</td>\n",
       "      <td>...</td>\n",
       "      <td>...</td>\n",
       "      <td>...</td>\n",
       "      <td>...</td>\n",
       "      <td>...</td>\n",
       "      <td>...</td>\n",
       "      <td>...</td>\n",
       "      <td>...</td>\n",
       "      <td>...</td>\n",
       "      <td>...</td>\n",
       "      <td>...</td>\n",
       "      <td>...</td>\n",
       "      <td>...</td>\n",
       "      <td>...</td>\n",
       "      <td>...</td>\n",
       "      <td>...</td>\n",
       "      <td>...</td>\n",
       "    </tr>\n",
       "    <tr>\n",
       "      <th>168441</th>\n",
       "      <td>168441</td>\n",
       "      <td>17355248</td>\n",
       "      <td>6754</td>\n",
       "      <td>https://www.zameen.com/Property/gulshan_e_maym...</td>\n",
       "      <td>House</td>\n",
       "      <td>26500000</td>\n",
       "      <td>Gadap Town</td>\n",
       "      <td>Karachi</td>\n",
       "      <td>Sindh</td>\n",
       "      <td>25.029909</td>\n",
       "      <td>67.137192</td>\n",
       "      <td>0</td>\n",
       "      <td>For Sale</td>\n",
       "      <td>6</td>\n",
       "      <td>7/18/2019</td>\n",
       "      <td>Al Shahab Enterprises</td>\n",
       "      <td>Shahmir</td>\n",
       "      <td>26136.096</td>\n",
       "    </tr>\n",
       "    <tr>\n",
       "      <th>168442</th>\n",
       "      <td>168442</td>\n",
       "      <td>17355249</td>\n",
       "      <td>680</td>\n",
       "      <td>https://www.zameen.com/Property/gadap_town_gul...</td>\n",
       "      <td>House</td>\n",
       "      <td>12500000</td>\n",
       "      <td>Gadap Town</td>\n",
       "      <td>Karachi</td>\n",
       "      <td>Sindh</td>\n",
       "      <td>25.017951</td>\n",
       "      <td>67.136393</td>\n",
       "      <td>0</td>\n",
       "      <td>For Sale</td>\n",
       "      <td>3</td>\n",
       "      <td>7/18/2019</td>\n",
       "      <td>Al Shahab Enterprises</td>\n",
       "      <td>Shahmir</td>\n",
       "      <td>2178.008</td>\n",
       "    </tr>\n",
       "    <tr>\n",
       "      <th>168443</th>\n",
       "      <td>168443</td>\n",
       "      <td>17355250</td>\n",
       "      <td>6757</td>\n",
       "      <td>https://www.zameen.com/Property/gulshan_e_maym...</td>\n",
       "      <td>House</td>\n",
       "      <td>27000000</td>\n",
       "      <td>Gadap Town</td>\n",
       "      <td>Karachi</td>\n",
       "      <td>Sindh</td>\n",
       "      <td>25.015384</td>\n",
       "      <td>67.116330</td>\n",
       "      <td>0</td>\n",
       "      <td>For Sale</td>\n",
       "      <td>6</td>\n",
       "      <td>7/18/2019</td>\n",
       "      <td>Al Shahab Enterprises</td>\n",
       "      <td>Shahmir</td>\n",
       "      <td>26136.096</td>\n",
       "    </tr>\n",
       "    <tr>\n",
       "      <th>168444</th>\n",
       "      <td>168444</td>\n",
       "      <td>17355251</td>\n",
       "      <td>6752</td>\n",
       "      <td>https://www.zameen.com/Property/gulshan_e_maym...</td>\n",
       "      <td>House</td>\n",
       "      <td>11000000</td>\n",
       "      <td>Gadap Town</td>\n",
       "      <td>Karachi</td>\n",
       "      <td>Sindh</td>\n",
       "      <td>25.013265</td>\n",
       "      <td>67.120818</td>\n",
       "      <td>0</td>\n",
       "      <td>For Sale</td>\n",
       "      <td>3</td>\n",
       "      <td>7/18/2019</td>\n",
       "      <td>Al Shahab Enterprises</td>\n",
       "      <td>Shahmir</td>\n",
       "      <td>21235.578</td>\n",
       "    </tr>\n",
       "    <tr>\n",
       "      <th>168445</th>\n",
       "      <td>168445</td>\n",
       "      <td>17355287</td>\n",
       "      <td>10045</td>\n",
       "      <td>https://www.zameen.com/Property/bahria_town_ka...</td>\n",
       "      <td>House</td>\n",
       "      <td>9000000</td>\n",
       "      <td>Bahria Town Karachi</td>\n",
       "      <td>Karachi</td>\n",
       "      <td>Sindh</td>\n",
       "      <td>25.113565</td>\n",
       "      <td>67.353811</td>\n",
       "      <td>3</td>\n",
       "      <td>For Sale</td>\n",
       "      <td>3</td>\n",
       "      <td>7/18/2019</td>\n",
       "      <td>ZPN Real Estate &amp; Builders</td>\n",
       "      <td>Ali Raza</td>\n",
       "      <td>25591.594</td>\n",
       "    </tr>\n",
       "  </tbody>\n",
       "</table>\n",
       "<p>168446 rows × 18 columns</p>\n",
       "</div>"
      ],
      "text/plain": [
       "        Unnamed: 0  property_id  location_id  \\\n",
       "0                0       237062         3325   \n",
       "1                1       346905         3236   \n",
       "2                2       386513          764   \n",
       "3                3       656161          340   \n",
       "4                4       841645         3226   \n",
       "...            ...          ...          ...   \n",
       "168441      168441     17355248         6754   \n",
       "168442      168442     17355249          680   \n",
       "168443      168443     17355250         6757   \n",
       "168444      168444     17355251         6752   \n",
       "168445      168445     17355287        10045   \n",
       "\n",
       "                                                 page_url property_type  \\\n",
       "0       https://www.zameen.com/Property/g_10_g_10_2_gr...          Flat   \n",
       "1       https://www.zameen.com/Property/e_11_2_service...          Flat   \n",
       "2       https://www.zameen.com/Property/islamabad_g_15...         House   \n",
       "3       https://www.zameen.com/Property/islamabad_bani...         House   \n",
       "4       https://www.zameen.com/Property/dha_valley_dha...         House   \n",
       "...                                                   ...           ...   \n",
       "168441  https://www.zameen.com/Property/gulshan_e_maym...         House   \n",
       "168442  https://www.zameen.com/Property/gadap_town_gul...         House   \n",
       "168443  https://www.zameen.com/Property/gulshan_e_maym...         House   \n",
       "168444  https://www.zameen.com/Property/gulshan_e_maym...         House   \n",
       "168445  https://www.zameen.com/Property/bahria_town_ka...         House   \n",
       "\n",
       "           price             location       city      province_name  \\\n",
       "0       10000000                 G-10  Islamabad  Islamabad Capital   \n",
       "1        6900000                 E-11  Islamabad  Islamabad Capital   \n",
       "2       16500000                 G-15  Islamabad  Islamabad Capital   \n",
       "3       43500000            Bani Gala  Islamabad  Islamabad Capital   \n",
       "4        7000000          DHA Defence  Islamabad  Islamabad Capital   \n",
       "...          ...                  ...        ...                ...   \n",
       "168441  26500000           Gadap Town    Karachi              Sindh   \n",
       "168442  12500000           Gadap Town    Karachi              Sindh   \n",
       "168443  27000000           Gadap Town    Karachi              Sindh   \n",
       "168444  11000000           Gadap Town    Karachi              Sindh   \n",
       "168445   9000000  Bahria Town Karachi    Karachi              Sindh   \n",
       "\n",
       "         latitude  longitude  baths   purpose  bedrooms date_added  \\\n",
       "0       33.679890  73.012640      2  For Sale         2   2/4/2019   \n",
       "1       33.700993  72.971492      3  For Sale         3   5/4/2019   \n",
       "2       33.631486  72.926559      6  For Sale         5  7/17/2019   \n",
       "3       33.707573  73.151199      4  For Sale         4   4/5/2019   \n",
       "4       33.492591  73.301339      3  For Sale         3  7/10/2019   \n",
       "...           ...        ...    ...       ...       ...        ...   \n",
       "168441  25.029909  67.137192      0  For Sale         6  7/18/2019   \n",
       "168442  25.017951  67.136393      0  For Sale         3  7/18/2019   \n",
       "168443  25.015384  67.116330      0  For Sale         6  7/18/2019   \n",
       "168444  25.013265  67.120818      0  For Sale         3  7/18/2019   \n",
       "168445  25.113565  67.353811      3  For Sale         3  7/18/2019   \n",
       "\n",
       "                            agency  \\\n",
       "0                              NaN   \n",
       "1                              NaN   \n",
       "2                              NaN   \n",
       "3                              NaN   \n",
       "4                    Easy Property   \n",
       "...                            ...   \n",
       "168441       Al Shahab Enterprises   \n",
       "168442       Al Shahab Enterprises   \n",
       "168443       Al Shahab Enterprises   \n",
       "168444       Al Shahab Enterprises   \n",
       "168445  ZPN Real Estate & Builders   \n",
       "\n",
       "                                               agent  Total_Area  \n",
       "0                                                NaN    1089.004  \n",
       "1                                                NaN   15246.056  \n",
       "2                                                NaN    2178.008  \n",
       "3                                                NaN   10890.000  \n",
       "4       Muhammad Junaid Ceo Muhammad Shahid Director    2178.008  \n",
       "...                                              ...         ...  \n",
       "168441                                       Shahmir   26136.096  \n",
       "168442                                       Shahmir    2178.008  \n",
       "168443                                       Shahmir   26136.096  \n",
       "168444                                       Shahmir   21235.578  \n",
       "168445                                      Ali Raza   25591.594  \n",
       "\n",
       "[168446 rows x 18 columns]"
      ]
     },
     "execution_count": 4,
     "metadata": {},
     "output_type": "execute_result"
    }
   ],
   "source": [
    "df"
   ]
  },
  {
   "cell_type": "markdown",
   "id": "e5c7ed1b",
   "metadata": {
    "papermill": {
     "duration": 0.025849,
     "end_time": "2022-03-26T17:45:40.047433",
     "exception": false,
     "start_time": "2022-03-26T17:45:40.021584",
     "status": "completed"
    },
    "tags": []
   },
   "source": [
    "# **Missing Values**"
   ]
  },
  {
   "cell_type": "code",
   "execution_count": 5,
   "id": "d613f237",
   "metadata": {
    "execution": {
     "iopub.execute_input": "2022-03-26T17:45:40.103170Z",
     "iopub.status.busy": "2022-03-26T17:45:40.102109Z",
     "iopub.status.idle": "2022-03-26T17:45:40.275998Z",
     "shell.execute_reply": "2022-03-26T17:45:40.276659Z"
    },
    "papermill": {
     "duration": 0.203723,
     "end_time": "2022-03-26T17:45:40.277126",
     "exception": false,
     "start_time": "2022-03-26T17:45:40.073403",
     "status": "completed"
    },
    "tags": []
   },
   "outputs": [
    {
     "data": {
      "text/plain": [
       "Unnamed: 0           0\n",
       "property_id          0\n",
       "location_id          0\n",
       "page_url             0\n",
       "property_type        0\n",
       "price                0\n",
       "location             0\n",
       "city                 0\n",
       "province_name        0\n",
       "latitude             0\n",
       "longitude            0\n",
       "baths                0\n",
       "purpose              0\n",
       "bedrooms             0\n",
       "date_added           0\n",
       "agency           44071\n",
       "agent            44072\n",
       "Total_Area           0\n",
       "dtype: int64"
      ]
     },
     "execution_count": 5,
     "metadata": {},
     "output_type": "execute_result"
    }
   ],
   "source": [
    "df.isnull().sum()"
   ]
  },
  {
   "cell_type": "code",
   "execution_count": 6,
   "id": "3a28b193",
   "metadata": {
    "execution": {
     "iopub.execute_input": "2022-03-26T17:45:40.339903Z",
     "iopub.status.busy": "2022-03-26T17:45:40.339168Z",
     "iopub.status.idle": "2022-03-26T17:45:40.352743Z",
     "shell.execute_reply": "2022-03-26T17:45:40.352130Z"
    },
    "papermill": {
     "duration": 0.048691,
     "end_time": "2022-03-26T17:45:40.352886",
     "exception": false,
     "start_time": "2022-03-26T17:45:40.304195",
     "status": "completed"
    },
    "tags": []
   },
   "outputs": [],
   "source": [
    "df=df.drop(['Unnamed: 0','property_id','location_id','page_url','location','date_added','agency','agent'],axis=1)"
   ]
  },
  {
   "cell_type": "markdown",
   "id": "01adc89a",
   "metadata": {
    "papermill": {
     "duration": 0.025968,
     "end_time": "2022-03-26T17:45:40.405706",
     "exception": false,
     "start_time": "2022-03-26T17:45:40.379738",
     "status": "completed"
    },
    "tags": []
   },
   "source": [
    "##  **Discussion:**\n",
    "### For our initial experiment we are assuming that property_id and location_id doesn't carry much information and hence can be dropped. 'pageurl' is just for reference and hence can be dropped as well. 'location' is dropped as well because this information is already avaialable in longitude and latitude. 'agency' and 'agent' are dropped because they have about 25% missing values (although we could have imputed it)"
   ]
  },
  {
   "cell_type": "code",
   "execution_count": 7,
   "id": "5abff228",
   "metadata": {
    "execution": {
     "iopub.execute_input": "2022-03-26T17:45:40.465656Z",
     "iopub.status.busy": "2022-03-26T17:45:40.464504Z",
     "iopub.status.idle": "2022-03-26T17:45:40.487273Z",
     "shell.execute_reply": "2022-03-26T17:45:40.486623Z"
    },
    "papermill": {
     "duration": 0.05531,
     "end_time": "2022-03-26T17:45:40.487475",
     "exception": false,
     "start_time": "2022-03-26T17:45:40.432165",
     "status": "completed"
    },
    "tags": []
   },
   "outputs": [
    {
     "data": {
      "text/html": [
       "<div>\n",
       "<style scoped>\n",
       "    .dataframe tbody tr th:only-of-type {\n",
       "        vertical-align: middle;\n",
       "    }\n",
       "\n",
       "    .dataframe tbody tr th {\n",
       "        vertical-align: top;\n",
       "    }\n",
       "\n",
       "    .dataframe thead th {\n",
       "        text-align: right;\n",
       "    }\n",
       "</style>\n",
       "<table border=\"1\" class=\"dataframe\">\n",
       "  <thead>\n",
       "    <tr style=\"text-align: right;\">\n",
       "      <th></th>\n",
       "      <th>property_type</th>\n",
       "      <th>price</th>\n",
       "      <th>city</th>\n",
       "      <th>province_name</th>\n",
       "      <th>latitude</th>\n",
       "      <th>longitude</th>\n",
       "      <th>baths</th>\n",
       "      <th>purpose</th>\n",
       "      <th>bedrooms</th>\n",
       "      <th>Total_Area</th>\n",
       "    </tr>\n",
       "  </thead>\n",
       "  <tbody>\n",
       "    <tr>\n",
       "      <th>0</th>\n",
       "      <td>Flat</td>\n",
       "      <td>10000000</td>\n",
       "      <td>Islamabad</td>\n",
       "      <td>Islamabad Capital</td>\n",
       "      <td>33.679890</td>\n",
       "      <td>73.012640</td>\n",
       "      <td>2</td>\n",
       "      <td>For Sale</td>\n",
       "      <td>2</td>\n",
       "      <td>1089.004</td>\n",
       "    </tr>\n",
       "    <tr>\n",
       "      <th>1</th>\n",
       "      <td>Flat</td>\n",
       "      <td>6900000</td>\n",
       "      <td>Islamabad</td>\n",
       "      <td>Islamabad Capital</td>\n",
       "      <td>33.700993</td>\n",
       "      <td>72.971492</td>\n",
       "      <td>3</td>\n",
       "      <td>For Sale</td>\n",
       "      <td>3</td>\n",
       "      <td>15246.056</td>\n",
       "    </tr>\n",
       "    <tr>\n",
       "      <th>2</th>\n",
       "      <td>House</td>\n",
       "      <td>16500000</td>\n",
       "      <td>Islamabad</td>\n",
       "      <td>Islamabad Capital</td>\n",
       "      <td>33.631486</td>\n",
       "      <td>72.926559</td>\n",
       "      <td>6</td>\n",
       "      <td>For Sale</td>\n",
       "      <td>5</td>\n",
       "      <td>2178.008</td>\n",
       "    </tr>\n",
       "    <tr>\n",
       "      <th>3</th>\n",
       "      <td>House</td>\n",
       "      <td>43500000</td>\n",
       "      <td>Islamabad</td>\n",
       "      <td>Islamabad Capital</td>\n",
       "      <td>33.707573</td>\n",
       "      <td>73.151199</td>\n",
       "      <td>4</td>\n",
       "      <td>For Sale</td>\n",
       "      <td>4</td>\n",
       "      <td>10890.000</td>\n",
       "    </tr>\n",
       "    <tr>\n",
       "      <th>4</th>\n",
       "      <td>House</td>\n",
       "      <td>7000000</td>\n",
       "      <td>Islamabad</td>\n",
       "      <td>Islamabad Capital</td>\n",
       "      <td>33.492591</td>\n",
       "      <td>73.301339</td>\n",
       "      <td>3</td>\n",
       "      <td>For Sale</td>\n",
       "      <td>3</td>\n",
       "      <td>2178.008</td>\n",
       "    </tr>\n",
       "    <tr>\n",
       "      <th>...</th>\n",
       "      <td>...</td>\n",
       "      <td>...</td>\n",
       "      <td>...</td>\n",
       "      <td>...</td>\n",
       "      <td>...</td>\n",
       "      <td>...</td>\n",
       "      <td>...</td>\n",
       "      <td>...</td>\n",
       "      <td>...</td>\n",
       "      <td>...</td>\n",
       "    </tr>\n",
       "    <tr>\n",
       "      <th>168441</th>\n",
       "      <td>House</td>\n",
       "      <td>26500000</td>\n",
       "      <td>Karachi</td>\n",
       "      <td>Sindh</td>\n",
       "      <td>25.029909</td>\n",
       "      <td>67.137192</td>\n",
       "      <td>0</td>\n",
       "      <td>For Sale</td>\n",
       "      <td>6</td>\n",
       "      <td>26136.096</td>\n",
       "    </tr>\n",
       "    <tr>\n",
       "      <th>168442</th>\n",
       "      <td>House</td>\n",
       "      <td>12500000</td>\n",
       "      <td>Karachi</td>\n",
       "      <td>Sindh</td>\n",
       "      <td>25.017951</td>\n",
       "      <td>67.136393</td>\n",
       "      <td>0</td>\n",
       "      <td>For Sale</td>\n",
       "      <td>3</td>\n",
       "      <td>2178.008</td>\n",
       "    </tr>\n",
       "    <tr>\n",
       "      <th>168443</th>\n",
       "      <td>House</td>\n",
       "      <td>27000000</td>\n",
       "      <td>Karachi</td>\n",
       "      <td>Sindh</td>\n",
       "      <td>25.015384</td>\n",
       "      <td>67.116330</td>\n",
       "      <td>0</td>\n",
       "      <td>For Sale</td>\n",
       "      <td>6</td>\n",
       "      <td>26136.096</td>\n",
       "    </tr>\n",
       "    <tr>\n",
       "      <th>168444</th>\n",
       "      <td>House</td>\n",
       "      <td>11000000</td>\n",
       "      <td>Karachi</td>\n",
       "      <td>Sindh</td>\n",
       "      <td>25.013265</td>\n",
       "      <td>67.120818</td>\n",
       "      <td>0</td>\n",
       "      <td>For Sale</td>\n",
       "      <td>3</td>\n",
       "      <td>21235.578</td>\n",
       "    </tr>\n",
       "    <tr>\n",
       "      <th>168445</th>\n",
       "      <td>House</td>\n",
       "      <td>9000000</td>\n",
       "      <td>Karachi</td>\n",
       "      <td>Sindh</td>\n",
       "      <td>25.113565</td>\n",
       "      <td>67.353811</td>\n",
       "      <td>3</td>\n",
       "      <td>For Sale</td>\n",
       "      <td>3</td>\n",
       "      <td>25591.594</td>\n",
       "    </tr>\n",
       "  </tbody>\n",
       "</table>\n",
       "<p>168446 rows × 10 columns</p>\n",
       "</div>"
      ],
      "text/plain": [
       "       property_type     price       city      province_name   latitude  \\\n",
       "0               Flat  10000000  Islamabad  Islamabad Capital  33.679890   \n",
       "1               Flat   6900000  Islamabad  Islamabad Capital  33.700993   \n",
       "2              House  16500000  Islamabad  Islamabad Capital  33.631486   \n",
       "3              House  43500000  Islamabad  Islamabad Capital  33.707573   \n",
       "4              House   7000000  Islamabad  Islamabad Capital  33.492591   \n",
       "...              ...       ...        ...                ...        ...   \n",
       "168441         House  26500000    Karachi              Sindh  25.029909   \n",
       "168442         House  12500000    Karachi              Sindh  25.017951   \n",
       "168443         House  27000000    Karachi              Sindh  25.015384   \n",
       "168444         House  11000000    Karachi              Sindh  25.013265   \n",
       "168445         House   9000000    Karachi              Sindh  25.113565   \n",
       "\n",
       "        longitude  baths   purpose  bedrooms  Total_Area  \n",
       "0       73.012640      2  For Sale         2    1089.004  \n",
       "1       72.971492      3  For Sale         3   15246.056  \n",
       "2       72.926559      6  For Sale         5    2178.008  \n",
       "3       73.151199      4  For Sale         4   10890.000  \n",
       "4       73.301339      3  For Sale         3    2178.008  \n",
       "...           ...    ...       ...       ...         ...  \n",
       "168441  67.137192      0  For Sale         6   26136.096  \n",
       "168442  67.136393      0  For Sale         3    2178.008  \n",
       "168443  67.116330      0  For Sale         6   26136.096  \n",
       "168444  67.120818      0  For Sale         3   21235.578  \n",
       "168445  67.353811      3  For Sale         3   25591.594  \n",
       "\n",
       "[168446 rows x 10 columns]"
      ]
     },
     "execution_count": 7,
     "metadata": {},
     "output_type": "execute_result"
    }
   ],
   "source": [
    "df"
   ]
  },
  {
   "cell_type": "markdown",
   "id": "579d40c4",
   "metadata": {
    "papermill": {
     "duration": 0.027129,
     "end_time": "2022-03-26T17:45:40.542247",
     "exception": false,
     "start_time": "2022-03-26T17:45:40.515118",
     "status": "completed"
    },
    "tags": []
   },
   "source": [
    "# **What to do with categorical columns?**\n",
    "## One Hot Encode them? I avoid using OHE because I worry that we may lose some information by using this simple approach. In this experiment, we will ordinally enocode the sub-categories in our categorical columns.\n",
    "\n",
    "## **Approach**\n",
    "###   1) Take the categorical column and groupby it with the mean of the price column and see which sub-category has the the highest and lowest value.\n",
    "###   2) Subcategory with the lowest impact is replaced with value 1, second lowest with 2 and so on."
   ]
  },
  {
   "cell_type": "code",
   "execution_count": 8,
   "id": "0b261174",
   "metadata": {
    "execution": {
     "iopub.execute_input": "2022-03-26T17:45:40.622249Z",
     "iopub.status.busy": "2022-03-26T17:45:40.602763Z",
     "iopub.status.idle": "2022-03-26T17:45:40.644462Z",
     "shell.execute_reply": "2022-03-26T17:45:40.643830Z"
    },
    "papermill": {
     "duration": 0.074782,
     "end_time": "2022-03-26T17:45:40.644623",
     "exception": false,
     "start_time": "2022-03-26T17:45:40.569841",
     "status": "completed"
    },
    "tags": []
   },
   "outputs": [
    {
     "data": {
      "text/html": [
       "<div>\n",
       "<style scoped>\n",
       "    .dataframe tbody tr th:only-of-type {\n",
       "        vertical-align: middle;\n",
       "    }\n",
       "\n",
       "    .dataframe tbody tr th {\n",
       "        vertical-align: top;\n",
       "    }\n",
       "\n",
       "    .dataframe thead th {\n",
       "        text-align: right;\n",
       "    }\n",
       "</style>\n",
       "<table border=\"1\" class=\"dataframe\">\n",
       "  <thead>\n",
       "    <tr style=\"text-align: right;\">\n",
       "      <th></th>\n",
       "      <th>price</th>\n",
       "    </tr>\n",
       "    <tr>\n",
       "      <th>property_type</th>\n",
       "      <th></th>\n",
       "    </tr>\n",
       "  </thead>\n",
       "  <tbody>\n",
       "    <tr>\n",
       "      <th>Farm House</th>\n",
       "      <td>5.933984e+07</td>\n",
       "    </tr>\n",
       "    <tr>\n",
       "      <th>Flat</th>\n",
       "      <td>8.253729e+06</td>\n",
       "    </tr>\n",
       "    <tr>\n",
       "      <th>House</th>\n",
       "      <td>2.455157e+07</td>\n",
       "    </tr>\n",
       "    <tr>\n",
       "      <th>Lower Portion</th>\n",
       "      <td>1.345982e+06</td>\n",
       "    </tr>\n",
       "    <tr>\n",
       "      <th>Penthouse</th>\n",
       "      <td>1.683033e+07</td>\n",
       "    </tr>\n",
       "    <tr>\n",
       "      <th>Room</th>\n",
       "      <td>4.500444e+05</td>\n",
       "    </tr>\n",
       "    <tr>\n",
       "      <th>Upper Portion</th>\n",
       "      <td>2.119610e+06</td>\n",
       "    </tr>\n",
       "  </tbody>\n",
       "</table>\n",
       "</div>"
      ],
      "text/plain": [
       "                      price\n",
       "property_type              \n",
       "Farm House     5.933984e+07\n",
       "Flat           8.253729e+06\n",
       "House          2.455157e+07\n",
       "Lower Portion  1.345982e+06\n",
       "Penthouse      1.683033e+07\n",
       "Room           4.500444e+05\n",
       "Upper Portion  2.119610e+06"
      ]
     },
     "execution_count": 8,
     "metadata": {},
     "output_type": "execute_result"
    }
   ],
   "source": [
    "df[['property_type',\"price\"]].groupby('property_type').mean()"
   ]
  },
  {
   "cell_type": "code",
   "execution_count": 9,
   "id": "639aa101",
   "metadata": {
    "execution": {
     "iopub.execute_input": "2022-03-26T17:45:40.725594Z",
     "iopub.status.busy": "2022-03-26T17:45:40.710387Z",
     "iopub.status.idle": "2022-03-26T17:45:40.754579Z",
     "shell.execute_reply": "2022-03-26T17:45:40.755047Z"
    },
    "papermill": {
     "duration": 0.082595,
     "end_time": "2022-03-26T17:45:40.755227",
     "exception": false,
     "start_time": "2022-03-26T17:45:40.672632",
     "status": "completed"
    },
    "tags": []
   },
   "outputs": [
    {
     "data": {
      "text/html": [
       "<div>\n",
       "<style scoped>\n",
       "    .dataframe tbody tr th:only-of-type {\n",
       "        vertical-align: middle;\n",
       "    }\n",
       "\n",
       "    .dataframe tbody tr th {\n",
       "        vertical-align: top;\n",
       "    }\n",
       "\n",
       "    .dataframe thead th {\n",
       "        text-align: right;\n",
       "    }\n",
       "</style>\n",
       "<table border=\"1\" class=\"dataframe\">\n",
       "  <thead>\n",
       "    <tr style=\"text-align: right;\">\n",
       "      <th></th>\n",
       "      <th>price</th>\n",
       "      <th>city</th>\n",
       "      <th>province_name</th>\n",
       "      <th>latitude</th>\n",
       "      <th>longitude</th>\n",
       "      <th>baths</th>\n",
       "      <th>purpose</th>\n",
       "      <th>bedrooms</th>\n",
       "      <th>Total_Area</th>\n",
       "      <th>property_type_new</th>\n",
       "    </tr>\n",
       "  </thead>\n",
       "  <tbody>\n",
       "    <tr>\n",
       "      <th>0</th>\n",
       "      <td>10000000</td>\n",
       "      <td>Islamabad</td>\n",
       "      <td>Islamabad Capital</td>\n",
       "      <td>33.679890</td>\n",
       "      <td>73.012640</td>\n",
       "      <td>2</td>\n",
       "      <td>For Sale</td>\n",
       "      <td>2</td>\n",
       "      <td>1089.004</td>\n",
       "      <td>4</td>\n",
       "    </tr>\n",
       "    <tr>\n",
       "      <th>1</th>\n",
       "      <td>6900000</td>\n",
       "      <td>Islamabad</td>\n",
       "      <td>Islamabad Capital</td>\n",
       "      <td>33.700993</td>\n",
       "      <td>72.971492</td>\n",
       "      <td>3</td>\n",
       "      <td>For Sale</td>\n",
       "      <td>3</td>\n",
       "      <td>15246.056</td>\n",
       "      <td>4</td>\n",
       "    </tr>\n",
       "    <tr>\n",
       "      <th>2</th>\n",
       "      <td>16500000</td>\n",
       "      <td>Islamabad</td>\n",
       "      <td>Islamabad Capital</td>\n",
       "      <td>33.631486</td>\n",
       "      <td>72.926559</td>\n",
       "      <td>6</td>\n",
       "      <td>For Sale</td>\n",
       "      <td>5</td>\n",
       "      <td>2178.008</td>\n",
       "      <td>6</td>\n",
       "    </tr>\n",
       "    <tr>\n",
       "      <th>3</th>\n",
       "      <td>43500000</td>\n",
       "      <td>Islamabad</td>\n",
       "      <td>Islamabad Capital</td>\n",
       "      <td>33.707573</td>\n",
       "      <td>73.151199</td>\n",
       "      <td>4</td>\n",
       "      <td>For Sale</td>\n",
       "      <td>4</td>\n",
       "      <td>10890.000</td>\n",
       "      <td>6</td>\n",
       "    </tr>\n",
       "    <tr>\n",
       "      <th>4</th>\n",
       "      <td>7000000</td>\n",
       "      <td>Islamabad</td>\n",
       "      <td>Islamabad Capital</td>\n",
       "      <td>33.492591</td>\n",
       "      <td>73.301339</td>\n",
       "      <td>3</td>\n",
       "      <td>For Sale</td>\n",
       "      <td>3</td>\n",
       "      <td>2178.008</td>\n",
       "      <td>6</td>\n",
       "    </tr>\n",
       "  </tbody>\n",
       "</table>\n",
       "</div>"
      ],
      "text/plain": [
       "      price       city      province_name   latitude  longitude  baths  \\\n",
       "0  10000000  Islamabad  Islamabad Capital  33.679890  73.012640      2   \n",
       "1   6900000  Islamabad  Islamabad Capital  33.700993  72.971492      3   \n",
       "2  16500000  Islamabad  Islamabad Capital  33.631486  72.926559      6   \n",
       "3  43500000  Islamabad  Islamabad Capital  33.707573  73.151199      4   \n",
       "4   7000000  Islamabad  Islamabad Capital  33.492591  73.301339      3   \n",
       "\n",
       "    purpose  bedrooms  Total_Area  property_type_new  \n",
       "0  For Sale         2    1089.004                  4  \n",
       "1  For Sale         3   15246.056                  4  \n",
       "2  For Sale         5    2178.008                  6  \n",
       "3  For Sale         4   10890.000                  6  \n",
       "4  For Sale         3    2178.008                  6  "
      ]
     },
     "execution_count": 9,
     "metadata": {},
     "output_type": "execute_result"
    }
   ],
   "source": [
    "ordinal_map = {'Room':1,\n",
    "               'Lower Portion':2,\n",
    "               'Upper Portion':3,\n",
    "               'Flat':4,\n",
    "               'Penthouse':5,\n",
    "               'House':6,\n",
    "               'Farm House':7\n",
    "                       \n",
    "}\n",
    "\n",
    "df['property_type_new'] = df.property_type.map(ordinal_map)\n",
    "df=df.drop(['property_type'],axis=1)\n",
    "df.head()"
   ]
  },
  {
   "cell_type": "code",
   "execution_count": 10,
   "id": "de4e8ea4",
   "metadata": {
    "execution": {
     "iopub.execute_input": "2022-03-26T17:45:40.834236Z",
     "iopub.status.busy": "2022-03-26T17:45:40.826131Z",
     "iopub.status.idle": "2022-03-26T17:45:40.852578Z",
     "shell.execute_reply": "2022-03-26T17:45:40.851928Z"
    },
    "papermill": {
     "duration": 0.068518,
     "end_time": "2022-03-26T17:45:40.852721",
     "exception": false,
     "start_time": "2022-03-26T17:45:40.784203",
     "status": "completed"
    },
    "tags": []
   },
   "outputs": [
    {
     "data": {
      "text/html": [
       "<div>\n",
       "<style scoped>\n",
       "    .dataframe tbody tr th:only-of-type {\n",
       "        vertical-align: middle;\n",
       "    }\n",
       "\n",
       "    .dataframe tbody tr th {\n",
       "        vertical-align: top;\n",
       "    }\n",
       "\n",
       "    .dataframe thead th {\n",
       "        text-align: right;\n",
       "    }\n",
       "</style>\n",
       "<table border=\"1\" class=\"dataframe\">\n",
       "  <thead>\n",
       "    <tr style=\"text-align: right;\">\n",
       "      <th></th>\n",
       "      <th>price</th>\n",
       "    </tr>\n",
       "    <tr>\n",
       "      <th>city</th>\n",
       "      <th></th>\n",
       "    </tr>\n",
       "  </thead>\n",
       "  <tbody>\n",
       "    <tr>\n",
       "      <th>Faisalabad</th>\n",
       "      <td>7.827574e+06</td>\n",
       "    </tr>\n",
       "    <tr>\n",
       "      <th>Islamabad</th>\n",
       "      <td>1.339833e+07</td>\n",
       "    </tr>\n",
       "    <tr>\n",
       "      <th>Karachi</th>\n",
       "      <td>1.983883e+07</td>\n",
       "    </tr>\n",
       "    <tr>\n",
       "      <th>Lahore</th>\n",
       "      <td>2.528863e+07</td>\n",
       "    </tr>\n",
       "    <tr>\n",
       "      <th>Rawalpindi</th>\n",
       "      <td>8.576443e+06</td>\n",
       "    </tr>\n",
       "  </tbody>\n",
       "</table>\n",
       "</div>"
      ],
      "text/plain": [
       "                   price\n",
       "city                    \n",
       "Faisalabad  7.827574e+06\n",
       "Islamabad   1.339833e+07\n",
       "Karachi     1.983883e+07\n",
       "Lahore      2.528863e+07\n",
       "Rawalpindi  8.576443e+06"
      ]
     },
     "execution_count": 10,
     "metadata": {},
     "output_type": "execute_result"
    }
   ],
   "source": [
    "df[['city',\"price\"]].groupby('city').mean()"
   ]
  },
  {
   "cell_type": "code",
   "execution_count": 11,
   "id": "ca85b4c6",
   "metadata": {
    "execution": {
     "iopub.execute_input": "2022-03-26T17:45:40.941771Z",
     "iopub.status.busy": "2022-03-26T17:45:40.940963Z",
     "iopub.status.idle": "2022-03-26T17:45:40.971964Z",
     "shell.execute_reply": "2022-03-26T17:45:40.971208Z"
    },
    "papermill": {
     "duration": 0.090407,
     "end_time": "2022-03-26T17:45:40.972110",
     "exception": false,
     "start_time": "2022-03-26T17:45:40.881703",
     "status": "completed"
    },
    "tags": []
   },
   "outputs": [
    {
     "data": {
      "text/html": [
       "<div>\n",
       "<style scoped>\n",
       "    .dataframe tbody tr th:only-of-type {\n",
       "        vertical-align: middle;\n",
       "    }\n",
       "\n",
       "    .dataframe tbody tr th {\n",
       "        vertical-align: top;\n",
       "    }\n",
       "\n",
       "    .dataframe thead th {\n",
       "        text-align: right;\n",
       "    }\n",
       "</style>\n",
       "<table border=\"1\" class=\"dataframe\">\n",
       "  <thead>\n",
       "    <tr style=\"text-align: right;\">\n",
       "      <th></th>\n",
       "      <th>price</th>\n",
       "      <th>province_name</th>\n",
       "      <th>latitude</th>\n",
       "      <th>longitude</th>\n",
       "      <th>baths</th>\n",
       "      <th>purpose</th>\n",
       "      <th>bedrooms</th>\n",
       "      <th>Total_Area</th>\n",
       "      <th>property_type_new</th>\n",
       "      <th>city_new</th>\n",
       "    </tr>\n",
       "  </thead>\n",
       "  <tbody>\n",
       "    <tr>\n",
       "      <th>0</th>\n",
       "      <td>10000000</td>\n",
       "      <td>Islamabad Capital</td>\n",
       "      <td>33.679890</td>\n",
       "      <td>73.012640</td>\n",
       "      <td>2</td>\n",
       "      <td>For Sale</td>\n",
       "      <td>2</td>\n",
       "      <td>1089.004</td>\n",
       "      <td>4</td>\n",
       "      <td>3</td>\n",
       "    </tr>\n",
       "    <tr>\n",
       "      <th>1</th>\n",
       "      <td>6900000</td>\n",
       "      <td>Islamabad Capital</td>\n",
       "      <td>33.700993</td>\n",
       "      <td>72.971492</td>\n",
       "      <td>3</td>\n",
       "      <td>For Sale</td>\n",
       "      <td>3</td>\n",
       "      <td>15246.056</td>\n",
       "      <td>4</td>\n",
       "      <td>3</td>\n",
       "    </tr>\n",
       "    <tr>\n",
       "      <th>2</th>\n",
       "      <td>16500000</td>\n",
       "      <td>Islamabad Capital</td>\n",
       "      <td>33.631486</td>\n",
       "      <td>72.926559</td>\n",
       "      <td>6</td>\n",
       "      <td>For Sale</td>\n",
       "      <td>5</td>\n",
       "      <td>2178.008</td>\n",
       "      <td>6</td>\n",
       "      <td>3</td>\n",
       "    </tr>\n",
       "    <tr>\n",
       "      <th>3</th>\n",
       "      <td>43500000</td>\n",
       "      <td>Islamabad Capital</td>\n",
       "      <td>33.707573</td>\n",
       "      <td>73.151199</td>\n",
       "      <td>4</td>\n",
       "      <td>For Sale</td>\n",
       "      <td>4</td>\n",
       "      <td>10890.000</td>\n",
       "      <td>6</td>\n",
       "      <td>3</td>\n",
       "    </tr>\n",
       "    <tr>\n",
       "      <th>4</th>\n",
       "      <td>7000000</td>\n",
       "      <td>Islamabad Capital</td>\n",
       "      <td>33.492591</td>\n",
       "      <td>73.301339</td>\n",
       "      <td>3</td>\n",
       "      <td>For Sale</td>\n",
       "      <td>3</td>\n",
       "      <td>2178.008</td>\n",
       "      <td>6</td>\n",
       "      <td>3</td>\n",
       "    </tr>\n",
       "  </tbody>\n",
       "</table>\n",
       "</div>"
      ],
      "text/plain": [
       "      price      province_name   latitude  longitude  baths   purpose  \\\n",
       "0  10000000  Islamabad Capital  33.679890  73.012640      2  For Sale   \n",
       "1   6900000  Islamabad Capital  33.700993  72.971492      3  For Sale   \n",
       "2  16500000  Islamabad Capital  33.631486  72.926559      6  For Sale   \n",
       "3  43500000  Islamabad Capital  33.707573  73.151199      4  For Sale   \n",
       "4   7000000  Islamabad Capital  33.492591  73.301339      3  For Sale   \n",
       "\n",
       "   bedrooms  Total_Area  property_type_new  city_new  \n",
       "0         2    1089.004                  4         3  \n",
       "1         3   15246.056                  4         3  \n",
       "2         5    2178.008                  6         3  \n",
       "3         4   10890.000                  6         3  \n",
       "4         3    2178.008                  6         3  "
      ]
     },
     "execution_count": 11,
     "metadata": {},
     "output_type": "execute_result"
    }
   ],
   "source": [
    "ordinal_map = {'Faisalabad':1,\n",
    "               'Rawalpindi':2,\n",
    "               'Islamabad':3,\n",
    "               'Karachi':4,\n",
    "               'Lahore':5\n",
    "                       \n",
    "}\n",
    "\n",
    "df['city_new'] = df.city.map(ordinal_map)\n",
    "df=df.drop(['city'],axis=1)\n",
    "df.head()"
   ]
  },
  {
   "cell_type": "code",
   "execution_count": 12,
   "id": "8a1031c8",
   "metadata": {
    "execution": {
     "iopub.execute_input": "2022-03-26T17:45:41.048490Z",
     "iopub.status.busy": "2022-03-26T17:45:41.041264Z",
     "iopub.status.idle": "2022-03-26T17:45:41.074826Z",
     "shell.execute_reply": "2022-03-26T17:45:41.074135Z"
    },
    "papermill": {
     "duration": 0.069842,
     "end_time": "2022-03-26T17:45:41.074981",
     "exception": false,
     "start_time": "2022-03-26T17:45:41.005139",
     "status": "completed"
    },
    "tags": []
   },
   "outputs": [
    {
     "data": {
      "text/html": [
       "<div>\n",
       "<style scoped>\n",
       "    .dataframe tbody tr th:only-of-type {\n",
       "        vertical-align: middle;\n",
       "    }\n",
       "\n",
       "    .dataframe tbody tr th {\n",
       "        vertical-align: top;\n",
       "    }\n",
       "\n",
       "    .dataframe thead th {\n",
       "        text-align: right;\n",
       "    }\n",
       "</style>\n",
       "<table border=\"1\" class=\"dataframe\">\n",
       "  <thead>\n",
       "    <tr style=\"text-align: right;\">\n",
       "      <th></th>\n",
       "      <th>price</th>\n",
       "    </tr>\n",
       "    <tr>\n",
       "      <th>province_name</th>\n",
       "      <th></th>\n",
       "    </tr>\n",
       "  </thead>\n",
       "  <tbody>\n",
       "    <tr>\n",
       "      <th>Islamabad Capital</th>\n",
       "      <td>1.339833e+07</td>\n",
       "    </tr>\n",
       "    <tr>\n",
       "      <th>Punjab</th>\n",
       "      <td>1.830545e+07</td>\n",
       "    </tr>\n",
       "    <tr>\n",
       "      <th>Sindh</th>\n",
       "      <td>1.983883e+07</td>\n",
       "    </tr>\n",
       "  </tbody>\n",
       "</table>\n",
       "</div>"
      ],
      "text/plain": [
       "                          price\n",
       "province_name                  \n",
       "Islamabad Capital  1.339833e+07\n",
       "Punjab             1.830545e+07\n",
       "Sindh              1.983883e+07"
      ]
     },
     "execution_count": 12,
     "metadata": {},
     "output_type": "execute_result"
    }
   ],
   "source": [
    "df[['province_name',\"price\"]].groupby('province_name').mean()"
   ]
  },
  {
   "cell_type": "code",
   "execution_count": 13,
   "id": "899dc665",
   "metadata": {
    "execution": {
     "iopub.execute_input": "2022-03-26T17:45:41.160406Z",
     "iopub.status.busy": "2022-03-26T17:45:41.159706Z",
     "iopub.status.idle": "2022-03-26T17:45:41.189385Z",
     "shell.execute_reply": "2022-03-26T17:45:41.188638Z"
    },
    "papermill": {
     "duration": 0.083696,
     "end_time": "2022-03-26T17:45:41.189546",
     "exception": false,
     "start_time": "2022-03-26T17:45:41.105850",
     "status": "completed"
    },
    "tags": []
   },
   "outputs": [
    {
     "data": {
      "text/html": [
       "<div>\n",
       "<style scoped>\n",
       "    .dataframe tbody tr th:only-of-type {\n",
       "        vertical-align: middle;\n",
       "    }\n",
       "\n",
       "    .dataframe tbody tr th {\n",
       "        vertical-align: top;\n",
       "    }\n",
       "\n",
       "    .dataframe thead th {\n",
       "        text-align: right;\n",
       "    }\n",
       "</style>\n",
       "<table border=\"1\" class=\"dataframe\">\n",
       "  <thead>\n",
       "    <tr style=\"text-align: right;\">\n",
       "      <th></th>\n",
       "      <th>price</th>\n",
       "      <th>latitude</th>\n",
       "      <th>longitude</th>\n",
       "      <th>baths</th>\n",
       "      <th>purpose</th>\n",
       "      <th>bedrooms</th>\n",
       "      <th>Total_Area</th>\n",
       "      <th>property_type_new</th>\n",
       "      <th>city_new</th>\n",
       "      <th>province_name_new</th>\n",
       "    </tr>\n",
       "  </thead>\n",
       "  <tbody>\n",
       "    <tr>\n",
       "      <th>0</th>\n",
       "      <td>10000000</td>\n",
       "      <td>33.679890</td>\n",
       "      <td>73.012640</td>\n",
       "      <td>2</td>\n",
       "      <td>For Sale</td>\n",
       "      <td>2</td>\n",
       "      <td>1089.004</td>\n",
       "      <td>4</td>\n",
       "      <td>3</td>\n",
       "      <td>1</td>\n",
       "    </tr>\n",
       "    <tr>\n",
       "      <th>1</th>\n",
       "      <td>6900000</td>\n",
       "      <td>33.700993</td>\n",
       "      <td>72.971492</td>\n",
       "      <td>3</td>\n",
       "      <td>For Sale</td>\n",
       "      <td>3</td>\n",
       "      <td>15246.056</td>\n",
       "      <td>4</td>\n",
       "      <td>3</td>\n",
       "      <td>1</td>\n",
       "    </tr>\n",
       "    <tr>\n",
       "      <th>2</th>\n",
       "      <td>16500000</td>\n",
       "      <td>33.631486</td>\n",
       "      <td>72.926559</td>\n",
       "      <td>6</td>\n",
       "      <td>For Sale</td>\n",
       "      <td>5</td>\n",
       "      <td>2178.008</td>\n",
       "      <td>6</td>\n",
       "      <td>3</td>\n",
       "      <td>1</td>\n",
       "    </tr>\n",
       "    <tr>\n",
       "      <th>3</th>\n",
       "      <td>43500000</td>\n",
       "      <td>33.707573</td>\n",
       "      <td>73.151199</td>\n",
       "      <td>4</td>\n",
       "      <td>For Sale</td>\n",
       "      <td>4</td>\n",
       "      <td>10890.000</td>\n",
       "      <td>6</td>\n",
       "      <td>3</td>\n",
       "      <td>1</td>\n",
       "    </tr>\n",
       "    <tr>\n",
       "      <th>4</th>\n",
       "      <td>7000000</td>\n",
       "      <td>33.492591</td>\n",
       "      <td>73.301339</td>\n",
       "      <td>3</td>\n",
       "      <td>For Sale</td>\n",
       "      <td>3</td>\n",
       "      <td>2178.008</td>\n",
       "      <td>6</td>\n",
       "      <td>3</td>\n",
       "      <td>1</td>\n",
       "    </tr>\n",
       "  </tbody>\n",
       "</table>\n",
       "</div>"
      ],
      "text/plain": [
       "      price   latitude  longitude  baths   purpose  bedrooms  Total_Area  \\\n",
       "0  10000000  33.679890  73.012640      2  For Sale         2    1089.004   \n",
       "1   6900000  33.700993  72.971492      3  For Sale         3   15246.056   \n",
       "2  16500000  33.631486  72.926559      6  For Sale         5    2178.008   \n",
       "3  43500000  33.707573  73.151199      4  For Sale         4   10890.000   \n",
       "4   7000000  33.492591  73.301339      3  For Sale         3    2178.008   \n",
       "\n",
       "   property_type_new  city_new  province_name_new  \n",
       "0                  4         3                  1  \n",
       "1                  4         3                  1  \n",
       "2                  6         3                  1  \n",
       "3                  6         3                  1  \n",
       "4                  6         3                  1  "
      ]
     },
     "execution_count": 13,
     "metadata": {},
     "output_type": "execute_result"
    }
   ],
   "source": [
    "ordinal_map = {'Islamabad Capital':1,\n",
    "               'Punjab':2,\n",
    "               'Sindh':3\n",
    "                       \n",
    "}\n",
    "\n",
    "df['province_name_new'] = df.province_name.map(ordinal_map)\n",
    "df=df.drop(['province_name'],axis=1)\n",
    "df.head()"
   ]
  },
  {
   "cell_type": "code",
   "execution_count": 14,
   "id": "f795f481",
   "metadata": {
    "execution": {
     "iopub.execute_input": "2022-03-26T17:45:41.273759Z",
     "iopub.status.busy": "2022-03-26T17:45:41.272953Z",
     "iopub.status.idle": "2022-03-26T17:45:41.286224Z",
     "shell.execute_reply": "2022-03-26T17:45:41.286696Z"
    },
    "papermill": {
     "duration": 0.066416,
     "end_time": "2022-03-26T17:45:41.286889",
     "exception": false,
     "start_time": "2022-03-26T17:45:41.220473",
     "status": "completed"
    },
    "tags": []
   },
   "outputs": [
    {
     "data": {
      "text/html": [
       "<div>\n",
       "<style scoped>\n",
       "    .dataframe tbody tr th:only-of-type {\n",
       "        vertical-align: middle;\n",
       "    }\n",
       "\n",
       "    .dataframe tbody tr th {\n",
       "        vertical-align: top;\n",
       "    }\n",
       "\n",
       "    .dataframe thead th {\n",
       "        text-align: right;\n",
       "    }\n",
       "</style>\n",
       "<table border=\"1\" class=\"dataframe\">\n",
       "  <thead>\n",
       "    <tr style=\"text-align: right;\">\n",
       "      <th></th>\n",
       "      <th>price</th>\n",
       "    </tr>\n",
       "    <tr>\n",
       "      <th>purpose</th>\n",
       "      <th></th>\n",
       "    </tr>\n",
       "  </thead>\n",
       "  <tbody>\n",
       "    <tr>\n",
       "      <th>For Rent</th>\n",
       "      <td>9.488438e+04</td>\n",
       "    </tr>\n",
       "    <tr>\n",
       "      <th>For Sale</th>\n",
       "      <td>2.476513e+07</td>\n",
       "    </tr>\n",
       "  </tbody>\n",
       "</table>\n",
       "</div>"
      ],
      "text/plain": [
       "                 price\n",
       "purpose               \n",
       "For Rent  9.488438e+04\n",
       "For Sale  2.476513e+07"
      ]
     },
     "execution_count": 14,
     "metadata": {},
     "output_type": "execute_result"
    }
   ],
   "source": [
    "df[['purpose',\"price\"]].groupby('purpose').mean()"
   ]
  },
  {
   "cell_type": "code",
   "execution_count": 15,
   "id": "0142dec5",
   "metadata": {
    "execution": {
     "iopub.execute_input": "2022-03-26T17:45:41.379715Z",
     "iopub.status.busy": "2022-03-26T17:45:41.378985Z",
     "iopub.status.idle": "2022-03-26T17:45:41.406632Z",
     "shell.execute_reply": "2022-03-26T17:45:41.407119Z"
    },
    "papermill": {
     "duration": 0.08892,
     "end_time": "2022-03-26T17:45:41.407305",
     "exception": false,
     "start_time": "2022-03-26T17:45:41.318385",
     "status": "completed"
    },
    "tags": []
   },
   "outputs": [
    {
     "data": {
      "text/html": [
       "<div>\n",
       "<style scoped>\n",
       "    .dataframe tbody tr th:only-of-type {\n",
       "        vertical-align: middle;\n",
       "    }\n",
       "\n",
       "    .dataframe tbody tr th {\n",
       "        vertical-align: top;\n",
       "    }\n",
       "\n",
       "    .dataframe thead th {\n",
       "        text-align: right;\n",
       "    }\n",
       "</style>\n",
       "<table border=\"1\" class=\"dataframe\">\n",
       "  <thead>\n",
       "    <tr style=\"text-align: right;\">\n",
       "      <th></th>\n",
       "      <th>price</th>\n",
       "      <th>latitude</th>\n",
       "      <th>longitude</th>\n",
       "      <th>baths</th>\n",
       "      <th>bedrooms</th>\n",
       "      <th>Total_Area</th>\n",
       "      <th>property_type_new</th>\n",
       "      <th>city_new</th>\n",
       "      <th>province_name_new</th>\n",
       "      <th>purpose_new</th>\n",
       "    </tr>\n",
       "  </thead>\n",
       "  <tbody>\n",
       "    <tr>\n",
       "      <th>0</th>\n",
       "      <td>10000000</td>\n",
       "      <td>33.679890</td>\n",
       "      <td>73.012640</td>\n",
       "      <td>2</td>\n",
       "      <td>2</td>\n",
       "      <td>1089.004</td>\n",
       "      <td>4</td>\n",
       "      <td>3</td>\n",
       "      <td>1</td>\n",
       "      <td>2</td>\n",
       "    </tr>\n",
       "    <tr>\n",
       "      <th>1</th>\n",
       "      <td>6900000</td>\n",
       "      <td>33.700993</td>\n",
       "      <td>72.971492</td>\n",
       "      <td>3</td>\n",
       "      <td>3</td>\n",
       "      <td>15246.056</td>\n",
       "      <td>4</td>\n",
       "      <td>3</td>\n",
       "      <td>1</td>\n",
       "      <td>2</td>\n",
       "    </tr>\n",
       "    <tr>\n",
       "      <th>2</th>\n",
       "      <td>16500000</td>\n",
       "      <td>33.631486</td>\n",
       "      <td>72.926559</td>\n",
       "      <td>6</td>\n",
       "      <td>5</td>\n",
       "      <td>2178.008</td>\n",
       "      <td>6</td>\n",
       "      <td>3</td>\n",
       "      <td>1</td>\n",
       "      <td>2</td>\n",
       "    </tr>\n",
       "    <tr>\n",
       "      <th>3</th>\n",
       "      <td>43500000</td>\n",
       "      <td>33.707573</td>\n",
       "      <td>73.151199</td>\n",
       "      <td>4</td>\n",
       "      <td>4</td>\n",
       "      <td>10890.000</td>\n",
       "      <td>6</td>\n",
       "      <td>3</td>\n",
       "      <td>1</td>\n",
       "      <td>2</td>\n",
       "    </tr>\n",
       "    <tr>\n",
       "      <th>4</th>\n",
       "      <td>7000000</td>\n",
       "      <td>33.492591</td>\n",
       "      <td>73.301339</td>\n",
       "      <td>3</td>\n",
       "      <td>3</td>\n",
       "      <td>2178.008</td>\n",
       "      <td>6</td>\n",
       "      <td>3</td>\n",
       "      <td>1</td>\n",
       "      <td>2</td>\n",
       "    </tr>\n",
       "  </tbody>\n",
       "</table>\n",
       "</div>"
      ],
      "text/plain": [
       "      price   latitude  longitude  baths  bedrooms  Total_Area  \\\n",
       "0  10000000  33.679890  73.012640      2         2    1089.004   \n",
       "1   6900000  33.700993  72.971492      3         3   15246.056   \n",
       "2  16500000  33.631486  72.926559      6         5    2178.008   \n",
       "3  43500000  33.707573  73.151199      4         4   10890.000   \n",
       "4   7000000  33.492591  73.301339      3         3    2178.008   \n",
       "\n",
       "   property_type_new  city_new  province_name_new  purpose_new  \n",
       "0                  4         3                  1            2  \n",
       "1                  4         3                  1            2  \n",
       "2                  6         3                  1            2  \n",
       "3                  6         3                  1            2  \n",
       "4                  6         3                  1            2  "
      ]
     },
     "execution_count": 15,
     "metadata": {},
     "output_type": "execute_result"
    }
   ],
   "source": [
    "ordinal_map = {'For Rent':1,\n",
    "               'For Sale':2,\n",
    "                       \n",
    "}\n",
    "\n",
    "df['purpose_new'] = df.purpose.map(ordinal_map)\n",
    "df=df.drop(['purpose'],axis=1)\n",
    "df.head()"
   ]
  },
  {
   "cell_type": "code",
   "execution_count": 16,
   "id": "38776dc3",
   "metadata": {
    "execution": {
     "iopub.execute_input": "2022-03-26T17:45:41.476756Z",
     "iopub.status.busy": "2022-03-26T17:45:41.475679Z",
     "iopub.status.idle": "2022-03-26T17:45:41.489212Z",
     "shell.execute_reply": "2022-03-26T17:45:41.489799Z"
    },
    "papermill": {
     "duration": 0.050034,
     "end_time": "2022-03-26T17:45:41.489987",
     "exception": false,
     "start_time": "2022-03-26T17:45:41.439953",
     "status": "completed"
    },
    "tags": []
   },
   "outputs": [
    {
     "data": {
      "text/html": [
       "<div>\n",
       "<style scoped>\n",
       "    .dataframe tbody tr th:only-of-type {\n",
       "        vertical-align: middle;\n",
       "    }\n",
       "\n",
       "    .dataframe tbody tr th {\n",
       "        vertical-align: top;\n",
       "    }\n",
       "\n",
       "    .dataframe thead th {\n",
       "        text-align: right;\n",
       "    }\n",
       "</style>\n",
       "<table border=\"1\" class=\"dataframe\">\n",
       "  <thead>\n",
       "    <tr style=\"text-align: right;\">\n",
       "      <th></th>\n",
       "      <th>price</th>\n",
       "      <th>latitude</th>\n",
       "      <th>longitude</th>\n",
       "      <th>baths</th>\n",
       "      <th>bedrooms</th>\n",
       "      <th>Total_Area</th>\n",
       "      <th>property_type_new</th>\n",
       "      <th>city_new</th>\n",
       "      <th>province_name_new</th>\n",
       "      <th>purpose_new</th>\n",
       "    </tr>\n",
       "  </thead>\n",
       "  <tbody>\n",
       "    <tr>\n",
       "      <th>0</th>\n",
       "      <td>10000000</td>\n",
       "      <td>33.679890</td>\n",
       "      <td>73.012640</td>\n",
       "      <td>2</td>\n",
       "      <td>2</td>\n",
       "      <td>1089.004</td>\n",
       "      <td>4</td>\n",
       "      <td>3</td>\n",
       "      <td>1</td>\n",
       "      <td>2</td>\n",
       "    </tr>\n",
       "    <tr>\n",
       "      <th>1</th>\n",
       "      <td>6900000</td>\n",
       "      <td>33.700993</td>\n",
       "      <td>72.971492</td>\n",
       "      <td>3</td>\n",
       "      <td>3</td>\n",
       "      <td>15246.056</td>\n",
       "      <td>4</td>\n",
       "      <td>3</td>\n",
       "      <td>1</td>\n",
       "      <td>2</td>\n",
       "    </tr>\n",
       "    <tr>\n",
       "      <th>2</th>\n",
       "      <td>16500000</td>\n",
       "      <td>33.631486</td>\n",
       "      <td>72.926559</td>\n",
       "      <td>6</td>\n",
       "      <td>5</td>\n",
       "      <td>2178.008</td>\n",
       "      <td>6</td>\n",
       "      <td>3</td>\n",
       "      <td>1</td>\n",
       "      <td>2</td>\n",
       "    </tr>\n",
       "    <tr>\n",
       "      <th>3</th>\n",
       "      <td>43500000</td>\n",
       "      <td>33.707573</td>\n",
       "      <td>73.151199</td>\n",
       "      <td>4</td>\n",
       "      <td>4</td>\n",
       "      <td>10890.000</td>\n",
       "      <td>6</td>\n",
       "      <td>3</td>\n",
       "      <td>1</td>\n",
       "      <td>2</td>\n",
       "    </tr>\n",
       "    <tr>\n",
       "      <th>4</th>\n",
       "      <td>7000000</td>\n",
       "      <td>33.492591</td>\n",
       "      <td>73.301339</td>\n",
       "      <td>3</td>\n",
       "      <td>3</td>\n",
       "      <td>2178.008</td>\n",
       "      <td>6</td>\n",
       "      <td>3</td>\n",
       "      <td>1</td>\n",
       "      <td>2</td>\n",
       "    </tr>\n",
       "  </tbody>\n",
       "</table>\n",
       "</div>"
      ],
      "text/plain": [
       "      price   latitude  longitude  baths  bedrooms  Total_Area  \\\n",
       "0  10000000  33.679890  73.012640      2         2    1089.004   \n",
       "1   6900000  33.700993  72.971492      3         3   15246.056   \n",
       "2  16500000  33.631486  72.926559      6         5    2178.008   \n",
       "3  43500000  33.707573  73.151199      4         4   10890.000   \n",
       "4   7000000  33.492591  73.301339      3         3    2178.008   \n",
       "\n",
       "   property_type_new  city_new  province_name_new  purpose_new  \n",
       "0                  4         3                  1            2  \n",
       "1                  4         3                  1            2  \n",
       "2                  6         3                  1            2  \n",
       "3                  6         3                  1            2  \n",
       "4                  6         3                  1            2  "
      ]
     },
     "execution_count": 16,
     "metadata": {},
     "output_type": "execute_result"
    }
   ],
   "source": [
    "df.head()"
   ]
  },
  {
   "cell_type": "markdown",
   "id": "f0f70be6",
   "metadata": {
    "papermill": {
     "duration": 0.032441,
     "end_time": "2022-03-26T17:45:41.555163",
     "exception": false,
     "start_time": "2022-03-26T17:45:41.522722",
     "status": "completed"
    },
    "tags": []
   },
   "source": [
    "# **Feature Selection**\n",
    "## Lets see the correlation heatmap of the features and see if this helps in feature selection."
   ]
  },
  {
   "cell_type": "code",
   "execution_count": 17,
   "id": "17a0b083",
   "metadata": {
    "execution": {
     "iopub.execute_input": "2022-03-26T17:45:41.625125Z",
     "iopub.status.busy": "2022-03-26T17:45:41.624101Z",
     "iopub.status.idle": "2022-03-26T17:45:42.726655Z",
     "shell.execute_reply": "2022-03-26T17:45:42.727166Z"
    },
    "papermill": {
     "duration": 1.139328,
     "end_time": "2022-03-26T17:45:42.727361",
     "exception": false,
     "start_time": "2022-03-26T17:45:41.588033",
     "status": "completed"
    },
    "tags": []
   },
   "outputs": [
    {
     "data": {
      "text/plain": [
       "<AxesSubplot:>"
      ]
     },
     "execution_count": 17,
     "metadata": {},
     "output_type": "execute_result"
    },
    {
     "data": {
      "image/png": "[encoded data removed]",
      "text/plain": [
       "<Figure size 1440x1440 with 2 Axes>"
      ]
     },
     "metadata": {
      "needs_background": "light"
     },
     "output_type": "display_data"
    }
   ],
   "source": [
    "plt.figure(figsize=(20,20))\n",
    "cor=df.corr()\n",
    "sns.heatmap(cor,annot=True)"
   ]
  },
  {
   "cell_type": "markdown",
   "id": "edd3d257",
   "metadata": {
    "papermill": {
     "duration": 0.035461,
     "end_time": "2022-03-26T17:45:42.798492",
     "exception": false,
     "start_time": "2022-03-26T17:45:42.763031",
     "status": "completed"
    },
    "tags": []
   },
   "source": [
    "##  **Discussion**\n",
    "## Seems like 'latitude', 'longitude', 'Total_Area' and 'province_name_new' are least correlated with the output and can be dropped (But lets just select them for the sake of simplicity)"
   ]
  },
  {
   "cell_type": "markdown",
   "id": "5452b5ad",
   "metadata": {
    "papermill": {
     "duration": 0.035119,
     "end_time": "2022-03-26T17:45:42.869225",
     "exception": false,
     "start_time": "2022-03-26T17:45:42.834106",
     "status": "completed"
    },
    "tags": []
   },
   "source": [
    "# **Separating dependent and independent features**"
   ]
  },
  {
   "cell_type": "code",
   "execution_count": 18,
   "id": "d1097b68",
   "metadata": {
    "execution": {
     "iopub.execute_input": "2022-03-26T17:45:42.947658Z",
     "iopub.status.busy": "2022-03-26T17:45:42.946868Z",
     "iopub.status.idle": "2022-03-26T17:45:42.955601Z",
     "shell.execute_reply": "2022-03-26T17:45:42.956121Z"
    },
    "papermill": {
     "duration": 0.051094,
     "end_time": "2022-03-26T17:45:42.956313",
     "exception": false,
     "start_time": "2022-03-26T17:45:42.905219",
     "status": "completed"
    },
    "tags": []
   },
   "outputs": [],
   "source": [
    "X=df.drop(['price'],axis=1)\n",
    "y=pd.DataFrame(df['price'])"
   ]
  },
  {
   "cell_type": "code",
   "execution_count": 19,
   "id": "32cfa1d7",
   "metadata": {
    "execution": {
     "iopub.execute_input": "2022-03-26T17:45:43.036963Z",
     "iopub.status.busy": "2022-03-26T17:45:43.031238Z",
     "iopub.status.idle": "2022-03-26T17:45:43.044903Z",
     "shell.execute_reply": "2022-03-26T17:45:43.045494Z"
    },
    "papermill": {
     "duration": 0.053284,
     "end_time": "2022-03-26T17:45:43.045675",
     "exception": false,
     "start_time": "2022-03-26T17:45:42.992391",
     "status": "completed"
    },
    "tags": []
   },
   "outputs": [
    {
     "data": {
      "text/html": [
       "<div>\n",
       "<style scoped>\n",
       "    .dataframe tbody tr th:only-of-type {\n",
       "        vertical-align: middle;\n",
       "    }\n",
       "\n",
       "    .dataframe tbody tr th {\n",
       "        vertical-align: top;\n",
       "    }\n",
       "\n",
       "    .dataframe thead th {\n",
       "        text-align: right;\n",
       "    }\n",
       "</style>\n",
       "<table border=\"1\" class=\"dataframe\">\n",
       "  <thead>\n",
       "    <tr style=\"text-align: right;\">\n",
       "      <th></th>\n",
       "      <th>latitude</th>\n",
       "      <th>longitude</th>\n",
       "      <th>baths</th>\n",
       "      <th>bedrooms</th>\n",
       "      <th>Total_Area</th>\n",
       "      <th>property_type_new</th>\n",
       "      <th>city_new</th>\n",
       "      <th>province_name_new</th>\n",
       "      <th>purpose_new</th>\n",
       "    </tr>\n",
       "  </thead>\n",
       "  <tbody>\n",
       "    <tr>\n",
       "      <th>0</th>\n",
       "      <td>33.679890</td>\n",
       "      <td>73.012640</td>\n",
       "      <td>2</td>\n",
       "      <td>2</td>\n",
       "      <td>1089.004</td>\n",
       "      <td>4</td>\n",
       "      <td>3</td>\n",
       "      <td>1</td>\n",
       "      <td>2</td>\n",
       "    </tr>\n",
       "    <tr>\n",
       "      <th>1</th>\n",
       "      <td>33.700993</td>\n",
       "      <td>72.971492</td>\n",
       "      <td>3</td>\n",
       "      <td>3</td>\n",
       "      <td>15246.056</td>\n",
       "      <td>4</td>\n",
       "      <td>3</td>\n",
       "      <td>1</td>\n",
       "      <td>2</td>\n",
       "    </tr>\n",
       "    <tr>\n",
       "      <th>2</th>\n",
       "      <td>33.631486</td>\n",
       "      <td>72.926559</td>\n",
       "      <td>6</td>\n",
       "      <td>5</td>\n",
       "      <td>2178.008</td>\n",
       "      <td>6</td>\n",
       "      <td>3</td>\n",
       "      <td>1</td>\n",
       "      <td>2</td>\n",
       "    </tr>\n",
       "    <tr>\n",
       "      <th>3</th>\n",
       "      <td>33.707573</td>\n",
       "      <td>73.151199</td>\n",
       "      <td>4</td>\n",
       "      <td>4</td>\n",
       "      <td>10890.000</td>\n",
       "      <td>6</td>\n",
       "      <td>3</td>\n",
       "      <td>1</td>\n",
       "      <td>2</td>\n",
       "    </tr>\n",
       "    <tr>\n",
       "      <th>4</th>\n",
       "      <td>33.492591</td>\n",
       "      <td>73.301339</td>\n",
       "      <td>3</td>\n",
       "      <td>3</td>\n",
       "      <td>2178.008</td>\n",
       "      <td>6</td>\n",
       "      <td>3</td>\n",
       "      <td>1</td>\n",
       "      <td>2</td>\n",
       "    </tr>\n",
       "  </tbody>\n",
       "</table>\n",
       "</div>"
      ],
      "text/plain": [
       "    latitude  longitude  baths  bedrooms  Total_Area  property_type_new  \\\n",
       "0  33.679890  73.012640      2         2    1089.004                  4   \n",
       "1  33.700993  72.971492      3         3   15246.056                  4   \n",
       "2  33.631486  72.926559      6         5    2178.008                  6   \n",
       "3  33.707573  73.151199      4         4   10890.000                  6   \n",
       "4  33.492591  73.301339      3         3    2178.008                  6   \n",
       "\n",
       "   city_new  province_name_new  purpose_new  \n",
       "0         3                  1            2  \n",
       "1         3                  1            2  \n",
       "2         3                  1            2  \n",
       "3         3                  1            2  \n",
       "4         3                  1            2  "
      ]
     },
     "execution_count": 19,
     "metadata": {},
     "output_type": "execute_result"
    }
   ],
   "source": [
    "X.head()"
   ]
  },
  {
   "cell_type": "code",
   "execution_count": 20,
   "id": "3d389c16",
   "metadata": {
    "execution": {
     "iopub.execute_input": "2022-03-26T17:45:43.126887Z",
     "iopub.status.busy": "2022-03-26T17:45:43.126031Z",
     "iopub.status.idle": "2022-03-26T17:45:43.129658Z",
     "shell.execute_reply": "2022-03-26T17:45:43.130126Z"
    },
    "papermill": {
     "duration": 0.048284,
     "end_time": "2022-03-26T17:45:43.130304",
     "exception": false,
     "start_time": "2022-03-26T17:45:43.082020",
     "status": "completed"
    },
    "tags": []
   },
   "outputs": [
    {
     "data": {
      "text/html": [
       "<div>\n",
       "<style scoped>\n",
       "    .dataframe tbody tr th:only-of-type {\n",
       "        vertical-align: middle;\n",
       "    }\n",
       "\n",
       "    .dataframe tbody tr th {\n",
       "        vertical-align: top;\n",
       "    }\n",
       "\n",
       "    .dataframe thead th {\n",
       "        text-align: right;\n",
       "    }\n",
       "</style>\n",
       "<table border=\"1\" class=\"dataframe\">\n",
       "  <thead>\n",
       "    <tr style=\"text-align: right;\">\n",
       "      <th></th>\n",
       "      <th>price</th>\n",
       "    </tr>\n",
       "  </thead>\n",
       "  <tbody>\n",
       "    <tr>\n",
       "      <th>0</th>\n",
       "      <td>10000000</td>\n",
       "    </tr>\n",
       "    <tr>\n",
       "      <th>1</th>\n",
       "      <td>6900000</td>\n",
       "    </tr>\n",
       "    <tr>\n",
       "      <th>2</th>\n",
       "      <td>16500000</td>\n",
       "    </tr>\n",
       "    <tr>\n",
       "      <th>3</th>\n",
       "      <td>43500000</td>\n",
       "    </tr>\n",
       "    <tr>\n",
       "      <th>4</th>\n",
       "      <td>7000000</td>\n",
       "    </tr>\n",
       "  </tbody>\n",
       "</table>\n",
       "</div>"
      ],
      "text/plain": [
       "      price\n",
       "0  10000000\n",
       "1   6900000\n",
       "2  16500000\n",
       "3  43500000\n",
       "4   7000000"
      ]
     },
     "execution_count": 20,
     "metadata": {},
     "output_type": "execute_result"
    }
   ],
   "source": [
    "y.head()"
   ]
  },
  {
   "cell_type": "markdown",
   "id": "eaa51494",
   "metadata": {
    "papermill": {
     "duration": 0.036678,
     "end_time": "2022-03-26T17:45:43.204085",
     "exception": false,
     "start_time": "2022-03-26T17:45:43.167407",
     "status": "completed"
    },
    "tags": []
   },
   "source": [
    "# **Fitting and Cross-Validating the model**"
   ]
  },
  {
   "cell_type": "code",
   "execution_count": 21,
   "id": "6430fb75",
   "metadata": {
    "execution": {
     "iopub.execute_input": "2022-03-26T17:45:43.286169Z",
     "iopub.status.busy": "2022-03-26T17:45:43.284830Z",
     "iopub.status.idle": "2022-03-26T17:45:43.354791Z",
     "shell.execute_reply": "2022-03-26T17:45:43.353784Z"
    },
    "papermill": {
     "duration": 0.113837,
     "end_time": "2022-03-26T17:45:43.355033",
     "exception": false,
     "start_time": "2022-03-26T17:45:43.241196",
     "status": "completed"
    },
    "tags": []
   },
   "outputs": [
    {
     "data": {
      "text/plain": [
       "LinearRegression()"
      ]
     },
     "execution_count": 21,
     "metadata": {},
     "output_type": "execute_result"
    }
   ],
   "source": [
    "LR=LinearRegression()\n",
    "LR.fit(X,y)"
   ]
  },
  {
   "cell_type": "code",
   "execution_count": 22,
   "id": "dd2d54b0",
   "metadata": {
    "execution": {
     "iopub.execute_input": "2022-03-26T17:45:43.448473Z",
     "iopub.status.busy": "2022-03-26T17:45:43.447413Z",
     "iopub.status.idle": "2022-03-26T17:45:44.386786Z",
     "shell.execute_reply": "2022-03-26T17:45:44.388092Z"
    },
    "papermill": {
     "duration": 0.98847,
     "end_time": "2022-03-26T17:45:44.388443",
     "exception": false,
     "start_time": "2022-03-26T17:45:43.399973",
     "status": "completed"
    },
    "tags": []
   },
   "outputs": [],
   "source": [
    "scores = cross_val_score(LR, X, y, cv=10, scoring='neg_mean_squared_error')\n",
    "scores=-1*scores"
   ]
  },
  {
   "cell_type": "code",
   "execution_count": 23,
   "id": "466ed766",
   "metadata": {
    "execution": {
     "iopub.execute_input": "2022-03-26T17:45:44.551274Z",
     "iopub.status.busy": "2022-03-26T17:45:44.550220Z",
     "iopub.status.idle": "2022-03-26T17:45:44.553968Z",
     "shell.execute_reply": "2022-03-26T17:45:44.554723Z"
    },
    "papermill": {
     "duration": 0.05399,
     "end_time": "2022-03-26T17:45:44.554975",
     "exception": false,
     "start_time": "2022-03-26T17:45:44.500985",
     "status": "completed"
    },
    "tags": []
   },
   "outputs": [
    {
     "data": {
      "text/plain": [
       "array([38275768.51568794, 31489121.4295151 , 34457860.14645815,\n",
       "       35773024.32131822, 35918053.58211891, 35131180.76550616,\n",
       "       29845055.42847659, 26919647.53542475, 26448398.30515372,\n",
       "       24101743.13197604])"
      ]
     },
     "execution_count": 23,
     "metadata": {},
     "output_type": "execute_result"
    }
   ],
   "source": [
    "np.sqrt((scores))"
   ]
  },
  {
   "cell_type": "code",
   "execution_count": 24,
   "id": "2e54571a",
   "metadata": {
    "execution": {
     "iopub.execute_input": "2022-03-26T17:45:44.651008Z",
     "iopub.status.busy": "2022-03-26T17:45:44.649999Z",
     "iopub.status.idle": "2022-03-26T17:45:44.655542Z",
     "shell.execute_reply": "2022-03-26T17:45:44.656109Z"
    },
    "papermill": {
     "duration": 0.056312,
     "end_time": "2022-03-26T17:45:44.656285",
     "exception": false,
     "start_time": "2022-03-26T17:45:44.599973",
     "status": "completed"
    },
    "tags": []
   },
   "outputs": [
    {
     "data": {
      "text/plain": [
       "31835985.316163562"
      ]
     },
     "execution_count": 24,
     "metadata": {},
     "output_type": "execute_result"
    }
   ],
   "source": [
    "(np.sqrt((scores))).mean()"
   ]
  },
  {
   "cell_type": "markdown",
   "id": "63b5e51e",
   "metadata": {
    "papermill": {
     "duration": 0.038522,
     "end_time": "2022-03-26T17:45:44.734240",
     "exception": false,
     "start_time": "2022-03-26T17:45:44.695718",
     "status": "completed"
    },
    "tags": []
   },
   "source": [
    "# **Reason for such high error**"
   ]
  },
  {
   "cell_type": "markdown",
   "id": "83968bb6",
   "metadata": {
    "papermill": {
     "duration": 0.039621,
     "end_time": "2022-03-26T17:45:44.812928",
     "exception": false,
     "start_time": "2022-03-26T17:45:44.773307",
     "status": "completed"
    },
    "tags": []
   },
   "source": [
    "## If you look closely in the dataset you will find that no feature is highly correlated with the dependent feature."
   ]
  },
  {
   "cell_type": "markdown",
   "id": "add433cc",
   "metadata": {
    "papermill": {
     "duration": 0.039896,
     "end_time": "2022-03-26T17:45:44.952804",
     "exception": false,
     "start_time": "2022-03-26T17:45:44.912908",
     "status": "completed"
    },
    "tags": []
   },
   "source": [
    "# **Way Forward**"
   ]
  },
  {
   "cell_type": "markdown",
   "id": "bac47fe6",
   "metadata": {
    "papermill": {
     "duration": 0.039087,
     "end_time": "2022-03-26T17:45:45.031239",
     "exception": false,
     "start_time": "2022-03-26T17:45:44.992152",
     "status": "completed"
    },
    "tags": []
   },
   "source": [
    "# 1) Remove ouliers\n",
    "## While removing outliers it is important to note that outliers for prices in 'rent' houses will have different bounds as compared outliers of 'for sale' houses.\n",
    "# 2) Feature Engineering\n",
    "## None of the features is highly correlated with the output in this approach. Make new features or maybe reconsider the dropped feature to improve the results.\n",
    "# 3) Try Different Algorithms\n",
    "## To find which algorithm works best for this problem?\n",
    "# 4) Hyper Parameter Tuning\n",
    "## To further improve the score without overfitting.\n",
    "# 5) Stacking\n",
    "## Maybe the combination of best performing algorithms is better than one."
   ]
  },
  {
   "cell_type": "code",
   "execution_count": null,
   "id": "9d5db910",
   "metadata": {
    "papermill": {
     "duration": 0.042143,
     "end_time": "2022-03-26T17:45:45.113236",
     "exception": false,
     "start_time": "2022-03-26T17:45:45.071093",
     "status": "completed"
    },
    "tags": []
   },
   "outputs": [],
   "source": []
  },
  {
   "cell_type": "code",
   "execution_count": null,
   "id": "03850dd2",
   "metadata": {
    "papermill": {
     "duration": 0.041141,
     "end_time": "2022-03-26T17:45:45.196188",
     "exception": false,
     "start_time": "2022-03-26T17:45:45.155047",
     "status": "completed"
    },
    "tags": []
   },
   "outputs": [],
   "source": []
  },
  {
   "cell_type": "code",
   "execution_count": null,
   "id": "824e8a78",
   "metadata": {
    "papermill": {
     "duration": 0.039118,
     "end_time": "2022-03-26T17:45:45.274721",
     "exception": false,
     "start_time": "2022-03-26T17:45:45.235603",
     "status": "completed"
    },
    "tags": []
   },
   "outputs": [],
   "source": []
  },
  {
   "cell_type": "code",
   "execution_count": null,
   "id": "727b1b16",
   "metadata": {
    "papermill": {
     "duration": 0.038916,
     "end_time": "2022-03-26T17:45:45.353369",
     "exception": false,
     "start_time": "2022-03-26T17:45:45.314453",
     "status": "completed"
    },
    "tags": []
   },
   "outputs": [],
   "source": []
  }
 ],
 "metadata": {
  "kernelspec": {
   "display_name": "Python 3",
   "language": "python",
   "name": "python3"
  },
  "language_info": {
   "codemirror_mode": {
    "name": "ipython",
    "version": 3
   },
   "file_extension": ".py",
   "mimetype": "text/x-python",
   "name": "python",
   "nbconvert_exporter": "python",
   "pygments_lexer": "ipython3",
   "version": "3.7.10"
  },
  "papermill": {
   "default_parameters": {},
   "duration": 19.532116,
   "end_time": "2022-03-26T17:45:46.102917",
   "environment_variables": {},
   "exception": null,
   "input_path": "__notebook__.ipynb",
   "output_path": "__notebook__.ipynb",
   "parameters": {},
   "start_time": "2022-03-26T17:45:26.570801",
   "version": "2.3.3"
  }
 },
 "nbformat": 4,
 "nbformat_minor": 5
}
